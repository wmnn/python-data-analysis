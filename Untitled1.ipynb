{
 "cells": [
  {
   "cell_type": "markdown",
   "id": "eff0da9c",
   "metadata": {},
   "source": [
    "# Checking the pearson and spearman correlation between quality of live and purchasing power + visualization"
   ]
  },
  {
   "cell_type": "code",
   "execution_count": 2,
   "id": "3088a759",
   "metadata": {},
   "outputs": [],
   "source": [
    "import pandas as pd\n",
    "import numpy as np\n",
    "import seaborn as sns\n",
    "import matplotlib.pyplot as plt\n",
    "\n",
    "filepath = \"/Users/chriswmn/Documents/CODE/202206/DATA SCIENCE/Cost_of_living/Output/mysqledit_heidi_2.csv\""
   ]
  },
  {
   "cell_type": "markdown",
   "id": "07b9daf8",
   "metadata": {},
   "source": [
    "# Checking for the linear correlation with pandas"
   ]
  },
  {
   "cell_type": "code",
   "execution_count": 8,
   "id": "e17a9f74",
   "metadata": {},
   "outputs": [
    {
     "data": {
      "text/html": [
       "<div>\n",
       "<style scoped>\n",
       "    .dataframe tbody tr th:only-of-type {\n",
       "        vertical-align: middle;\n",
       "    }\n",
       "\n",
       "    .dataframe tbody tr th {\n",
       "        vertical-align: top;\n",
       "    }\n",
       "\n",
       "    .dataframe thead th {\n",
       "        text-align: right;\n",
       "    }\n",
       "</style>\n",
       "<table border=\"1\" class=\"dataframe\">\n",
       "  <thead>\n",
       "    <tr style=\"text-align: right;\">\n",
       "      <th></th>\n",
       "      <th>City</th>\n",
       "      <th>Country</th>\n",
       "      <th>Quality of Life Index</th>\n",
       "      <th>Purchasing Power Index</th>\n",
       "      <th>II Purchasing Power Index</th>\n",
       "      <th>II b / V Purchasing power</th>\n",
       "      <th>III_income_per_month</th>\n",
       "      <th>IV_monthly_income</th>\n",
       "      <th>III_cost_of_living</th>\n",
       "      <th>III_money_to_spend</th>\n",
       "      <th>IV_money_to_spend</th>\n",
       "    </tr>\n",
       "  </thead>\n",
       "  <tbody>\n",
       "    <tr>\n",
       "      <th>0</th>\n",
       "      <td>Manila</td>\n",
       "      <td>Philippines</td>\n",
       "      <td>43.13</td>\n",
       "      <td>22.24</td>\n",
       "      <td>23.48</td>\n",
       "      <td>12.5</td>\n",
       "      <td>286.0</td>\n",
       "      <td>303.0</td>\n",
       "      <td>624.0</td>\n",
       "      <td>-338.0</td>\n",
       "      <td>-321.0</td>\n",
       "    </tr>\n",
       "    <tr>\n",
       "      <th>1</th>\n",
       "      <td>Tehran</td>\n",
       "      <td>Iran</td>\n",
       "      <td>46.26</td>\n",
       "      <td>14.55</td>\n",
       "      <td>22.69</td>\n",
       "      <td>8.0</td>\n",
       "      <td>247.0</td>\n",
       "      <td>247.0</td>\n",
       "      <td>711.0</td>\n",
       "      <td>-464.0</td>\n",
       "      <td>-464.0</td>\n",
       "    </tr>\n",
       "    <tr>\n",
       "      <th>2</th>\n",
       "      <td>Lagos</td>\n",
       "      <td>Nigeria</td>\n",
       "      <td>49.38</td>\n",
       "      <td>8.30</td>\n",
       "      <td>13.52</td>\n",
       "      <td>8.9</td>\n",
       "      <td>167.0</td>\n",
       "      <td>175.0</td>\n",
       "      <td>990.0</td>\n",
       "      <td>-823.0</td>\n",
       "      <td>-815.0</td>\n",
       "    </tr>\n",
       "    <tr>\n",
       "      <th>3</th>\n",
       "      <td>Dhaka</td>\n",
       "      <td>Bangladesh</td>\n",
       "      <td>55.07</td>\n",
       "      <td>23.81</td>\n",
       "      <td>33.21</td>\n",
       "      <td>9.5</td>\n",
       "      <td>169.0</td>\n",
       "      <td>218.0</td>\n",
       "      <td>452.0</td>\n",
       "      <td>-283.0</td>\n",
       "      <td>-234.0</td>\n",
       "    </tr>\n",
       "    <tr>\n",
       "      <th>4</th>\n",
       "      <td>Colombo</td>\n",
       "      <td>Sri Lanka</td>\n",
       "      <td>62.58</td>\n",
       "      <td>18.58</td>\n",
       "      <td>24.45</td>\n",
       "      <td>18.2</td>\n",
       "      <td>310.0</td>\n",
       "      <td>318.0</td>\n",
       "      <td>317.0</td>\n",
       "      <td>-7.0</td>\n",
       "      <td>1.0</td>\n",
       "    </tr>\n",
       "    <tr>\n",
       "      <th>...</th>\n",
       "      <td>...</td>\n",
       "      <td>...</td>\n",
       "      <td>...</td>\n",
       "      <td>...</td>\n",
       "      <td>...</td>\n",
       "      <td>...</td>\n",
       "      <td>...</td>\n",
       "      <td>...</td>\n",
       "      <td>...</td>\n",
       "      <td>...</td>\n",
       "      <td>...</td>\n",
       "    </tr>\n",
       "    <tr>\n",
       "      <th>250</th>\n",
       "      <td>Zurich</td>\n",
       "      <td>Switzerland</td>\n",
       "      <td>200.89</td>\n",
       "      <td>129.79</td>\n",
       "      <td>119.53</td>\n",
       "      <td>88.7</td>\n",
       "      <td>6885.0</td>\n",
       "      <td>7530.0</td>\n",
       "      <td>2442.0</td>\n",
       "      <td>4443.0</td>\n",
       "      <td>5088.0</td>\n",
       "    </tr>\n",
       "    <tr>\n",
       "      <th>251</th>\n",
       "      <td>Columbus</td>\n",
       "      <td>United States</td>\n",
       "      <td>201.40</td>\n",
       "      <td>151.29</td>\n",
       "      <td>109.52</td>\n",
       "      <td>100.0</td>\n",
       "      <td>5345.0</td>\n",
       "      <td>5869.0</td>\n",
       "      <td>2061.0</td>\n",
       "      <td>3284.0</td>\n",
       "      <td>3808.0</td>\n",
       "    </tr>\n",
       "    <tr>\n",
       "      <th>252</th>\n",
       "      <td>Adelaide</td>\n",
       "      <td>Australia</td>\n",
       "      <td>204.87</td>\n",
       "      <td>104.24</td>\n",
       "      <td>107.31</td>\n",
       "      <td>68.4</td>\n",
       "      <td>4473.0</td>\n",
       "      <td>4730.0</td>\n",
       "      <td>1963.0</td>\n",
       "      <td>2510.0</td>\n",
       "      <td>2767.0</td>\n",
       "    </tr>\n",
       "    <tr>\n",
       "      <th>253</th>\n",
       "      <td>Canberra</td>\n",
       "      <td>Australia</td>\n",
       "      <td>207.41</td>\n",
       "      <td>105.11</td>\n",
       "      <td>107.31</td>\n",
       "      <td>68.4</td>\n",
       "      <td>4473.0</td>\n",
       "      <td>4730.0</td>\n",
       "      <td>1963.0</td>\n",
       "      <td>2510.0</td>\n",
       "      <td>2767.0</td>\n",
       "    </tr>\n",
       "    <tr>\n",
       "      <th>254</th>\n",
       "      <td>Raleigh</td>\n",
       "      <td>United States</td>\n",
       "      <td>207.78</td>\n",
       "      <td>144.12</td>\n",
       "      <td>109.52</td>\n",
       "      <td>100.0</td>\n",
       "      <td>5345.0</td>\n",
       "      <td>5869.0</td>\n",
       "      <td>2061.0</td>\n",
       "      <td>3284.0</td>\n",
       "      <td>3808.0</td>\n",
       "    </tr>\n",
       "  </tbody>\n",
       "</table>\n",
       "<p>255 rows × 11 columns</p>\n",
       "</div>"
      ],
      "text/plain": [
       "         City        Country  Quality of Life Index  Purchasing Power Index  \\\n",
       "0      Manila    Philippines                  43.13                   22.24   \n",
       "1      Tehran           Iran                  46.26                   14.55   \n",
       "2       Lagos        Nigeria                  49.38                    8.30   \n",
       "3       Dhaka     Bangladesh                  55.07                   23.81   \n",
       "4     Colombo      Sri Lanka                  62.58                   18.58   \n",
       "..        ...            ...                    ...                     ...   \n",
       "250    Zurich    Switzerland                 200.89                  129.79   \n",
       "251  Columbus  United States                 201.40                  151.29   \n",
       "252  Adelaide      Australia                 204.87                  104.24   \n",
       "253  Canberra      Australia                 207.41                  105.11   \n",
       "254   Raleigh  United States                 207.78                  144.12   \n",
       "\n",
       "     II Purchasing Power Index  II b / V Purchasing power  \\\n",
       "0                        23.48                       12.5   \n",
       "1                        22.69                        8.0   \n",
       "2                        13.52                        8.9   \n",
       "3                        33.21                        9.5   \n",
       "4                        24.45                       18.2   \n",
       "..                         ...                        ...   \n",
       "250                     119.53                       88.7   \n",
       "251                     109.52                      100.0   \n",
       "252                     107.31                       68.4   \n",
       "253                     107.31                       68.4   \n",
       "254                     109.52                      100.0   \n",
       "\n",
       "     III_income_per_month  IV_monthly_income  III_cost_of_living  \\\n",
       "0                   286.0              303.0               624.0   \n",
       "1                   247.0              247.0               711.0   \n",
       "2                   167.0              175.0               990.0   \n",
       "3                   169.0              218.0               452.0   \n",
       "4                   310.0              318.0               317.0   \n",
       "..                    ...                ...                 ...   \n",
       "250                6885.0             7530.0              2442.0   \n",
       "251                5345.0             5869.0              2061.0   \n",
       "252                4473.0             4730.0              1963.0   \n",
       "253                4473.0             4730.0              1963.0   \n",
       "254                5345.0             5869.0              2061.0   \n",
       "\n",
       "     III_money_to_spend  IV_money_to_spend  \n",
       "0                -338.0             -321.0  \n",
       "1                -464.0             -464.0  \n",
       "2                -823.0             -815.0  \n",
       "3                -283.0             -234.0  \n",
       "4                  -7.0                1.0  \n",
       "..                  ...                ...  \n",
       "250              4443.0             5088.0  \n",
       "251              3284.0             3808.0  \n",
       "252              2510.0             2767.0  \n",
       "253              2510.0             2767.0  \n",
       "254              3284.0             3808.0  \n",
       "\n",
       "[255 rows x 11 columns]"
      ]
     },
     "execution_count": 8,
     "metadata": {},
     "output_type": "execute_result"
    }
   ],
   "source": [
    "dataset = pd.read_csv(filepath) #Loading the data\n",
    "dataset #looking at the data"
   ]
  },
  {
   "cell_type": "code",
   "execution_count": 11,
   "id": "c1284f86",
   "metadata": {},
   "outputs": [
    {
     "data": {
      "text/html": [
       "<div>\n",
       "<style scoped>\n",
       "    .dataframe tbody tr th:only-of-type {\n",
       "        vertical-align: middle;\n",
       "    }\n",
       "\n",
       "    .dataframe tbody tr th {\n",
       "        vertical-align: top;\n",
       "    }\n",
       "\n",
       "    .dataframe thead th {\n",
       "        text-align: right;\n",
       "    }\n",
       "</style>\n",
       "<table border=\"1\" class=\"dataframe\">\n",
       "  <thead>\n",
       "    <tr style=\"text-align: right;\">\n",
       "      <th></th>\n",
       "      <th>Quality_of_Life_Index</th>\n",
       "      <th>Purchasing_Power_Index</th>\n",
       "      <th>II_Purchasing_Power_Index</th>\n",
       "      <th>II_b_/_V_Purchasing_power</th>\n",
       "      <th>III_income_per_month</th>\n",
       "      <th>IV_monthly_income</th>\n",
       "      <th>III_cost_of_living</th>\n",
       "      <th>III_money_to_spend</th>\n",
       "      <th>IV_money_to_spend</th>\n",
       "    </tr>\n",
       "  </thead>\n",
       "  <tbody>\n",
       "    <tr>\n",
       "      <th>Quality_of_Life_Index</th>\n",
       "      <td>1.000000</td>\n",
       "      <td>0.809709</td>\n",
       "      <td>0.812521</td>\n",
       "      <td>0.762146</td>\n",
       "      <td>0.796581</td>\n",
       "      <td>0.798302</td>\n",
       "      <td>0.767282</td>\n",
       "      <td>0.792358</td>\n",
       "      <td>0.796262</td>\n",
       "    </tr>\n",
       "    <tr>\n",
       "      <th>Purchasing_Power_Index</th>\n",
       "      <td>0.809709</td>\n",
       "      <td>1.000000</td>\n",
       "      <td>0.929631</td>\n",
       "      <td>0.859693</td>\n",
       "      <td>0.870655</td>\n",
       "      <td>0.882351</td>\n",
       "      <td>0.857873</td>\n",
       "      <td>0.858881</td>\n",
       "      <td>0.875501</td>\n",
       "    </tr>\n",
       "    <tr>\n",
       "      <th>II_Purchasing_Power_Index</th>\n",
       "      <td>0.812521</td>\n",
       "      <td>0.929631</td>\n",
       "      <td>1.000000</td>\n",
       "      <td>0.894780</td>\n",
       "      <td>0.925842</td>\n",
       "      <td>0.926720</td>\n",
       "      <td>0.912026</td>\n",
       "      <td>0.911360</td>\n",
       "      <td>0.916027</td>\n",
       "    </tr>\n",
       "    <tr>\n",
       "      <th>II_b_/_V_Purchasing_power</th>\n",
       "      <td>0.762146</td>\n",
       "      <td>0.859693</td>\n",
       "      <td>0.894780</td>\n",
       "      <td>1.000000</td>\n",
       "      <td>0.955332</td>\n",
       "      <td>0.955360</td>\n",
       "      <td>0.913611</td>\n",
       "      <td>0.952568</td>\n",
       "      <td>0.954916</td>\n",
       "    </tr>\n",
       "    <tr>\n",
       "      <th>III_income_per_month</th>\n",
       "      <td>0.796581</td>\n",
       "      <td>0.870655</td>\n",
       "      <td>0.925842</td>\n",
       "      <td>0.955332</td>\n",
       "      <td>1.000000</td>\n",
       "      <td>0.999106</td>\n",
       "      <td>0.961318</td>\n",
       "      <td>0.992697</td>\n",
       "      <td>0.994496</td>\n",
       "    </tr>\n",
       "    <tr>\n",
       "      <th>IV_monthly_income</th>\n",
       "      <td>0.798302</td>\n",
       "      <td>0.882351</td>\n",
       "      <td>0.926720</td>\n",
       "      <td>0.955360</td>\n",
       "      <td>0.999106</td>\n",
       "      <td>1.000000</td>\n",
       "      <td>0.965611</td>\n",
       "      <td>0.990264</td>\n",
       "      <td>0.994955</td>\n",
       "    </tr>\n",
       "    <tr>\n",
       "      <th>III_cost_of_living</th>\n",
       "      <td>0.767282</td>\n",
       "      <td>0.857873</td>\n",
       "      <td>0.912026</td>\n",
       "      <td>0.913611</td>\n",
       "      <td>0.961318</td>\n",
       "      <td>0.965611</td>\n",
       "      <td>1.000000</td>\n",
       "      <td>0.921071</td>\n",
       "      <td>0.934657</td>\n",
       "    </tr>\n",
       "    <tr>\n",
       "      <th>III_money_to_spend</th>\n",
       "      <td>0.792358</td>\n",
       "      <td>0.858881</td>\n",
       "      <td>0.911360</td>\n",
       "      <td>0.952568</td>\n",
       "      <td>0.992697</td>\n",
       "      <td>0.990264</td>\n",
       "      <td>0.921071</td>\n",
       "      <td>1.000000</td>\n",
       "      <td>0.997991</td>\n",
       "    </tr>\n",
       "    <tr>\n",
       "      <th>IV_money_to_spend</th>\n",
       "      <td>0.796262</td>\n",
       "      <td>0.875501</td>\n",
       "      <td>0.916027</td>\n",
       "      <td>0.954916</td>\n",
       "      <td>0.994496</td>\n",
       "      <td>0.994955</td>\n",
       "      <td>0.934657</td>\n",
       "      <td>0.997991</td>\n",
       "      <td>1.000000</td>\n",
       "    </tr>\n",
       "  </tbody>\n",
       "</table>\n",
       "</div>"
      ],
      "text/plain": [
       "                           Quality_of_Life_Index  Purchasing_Power_Index  \\\n",
       "Quality_of_Life_Index                   1.000000                0.809709   \n",
       "Purchasing_Power_Index                  0.809709                1.000000   \n",
       "II_Purchasing_Power_Index               0.812521                0.929631   \n",
       "II_b_/_V_Purchasing_power               0.762146                0.859693   \n",
       "III_income_per_month                    0.796581                0.870655   \n",
       "IV_monthly_income                       0.798302                0.882351   \n",
       "III_cost_of_living                      0.767282                0.857873   \n",
       "III_money_to_spend                      0.792358                0.858881   \n",
       "IV_money_to_spend                       0.796262                0.875501   \n",
       "\n",
       "                           II_Purchasing_Power_Index  \\\n",
       "Quality_of_Life_Index                       0.812521   \n",
       "Purchasing_Power_Index                      0.929631   \n",
       "II_Purchasing_Power_Index                   1.000000   \n",
       "II_b_/_V_Purchasing_power                   0.894780   \n",
       "III_income_per_month                        0.925842   \n",
       "IV_monthly_income                           0.926720   \n",
       "III_cost_of_living                          0.912026   \n",
       "III_money_to_spend                          0.911360   \n",
       "IV_money_to_spend                           0.916027   \n",
       "\n",
       "                           II_b_/_V_Purchasing_power  III_income_per_month  \\\n",
       "Quality_of_Life_Index                       0.762146              0.796581   \n",
       "Purchasing_Power_Index                      0.859693              0.870655   \n",
       "II_Purchasing_Power_Index                   0.894780              0.925842   \n",
       "II_b_/_V_Purchasing_power                   1.000000              0.955332   \n",
       "III_income_per_month                        0.955332              1.000000   \n",
       "IV_monthly_income                           0.955360              0.999106   \n",
       "III_cost_of_living                          0.913611              0.961318   \n",
       "III_money_to_spend                          0.952568              0.992697   \n",
       "IV_money_to_spend                           0.954916              0.994496   \n",
       "\n",
       "                           IV_monthly_income  III_cost_of_living  \\\n",
       "Quality_of_Life_Index               0.798302            0.767282   \n",
       "Purchasing_Power_Index              0.882351            0.857873   \n",
       "II_Purchasing_Power_Index           0.926720            0.912026   \n",
       "II_b_/_V_Purchasing_power           0.955360            0.913611   \n",
       "III_income_per_month                0.999106            0.961318   \n",
       "IV_monthly_income                   1.000000            0.965611   \n",
       "III_cost_of_living                  0.965611            1.000000   \n",
       "III_money_to_spend                  0.990264            0.921071   \n",
       "IV_money_to_spend                   0.994955            0.934657   \n",
       "\n",
       "                           III_money_to_spend  IV_money_to_spend  \n",
       "Quality_of_Life_Index                0.792358           0.796262  \n",
       "Purchasing_Power_Index               0.858881           0.875501  \n",
       "II_Purchasing_Power_Index            0.911360           0.916027  \n",
       "II_b_/_V_Purchasing_power            0.952568           0.954916  \n",
       "III_income_per_month                 0.992697           0.994496  \n",
       "IV_monthly_income                    0.990264           0.994955  \n",
       "III_cost_of_living                   0.921071           0.934657  \n",
       "III_money_to_spend                   1.000000           0.997991  \n",
       "IV_money_to_spend                    0.997991           1.000000  "
      ]
     },
     "execution_count": 11,
     "metadata": {},
     "output_type": "execute_result"
    }
   ],
   "source": [
    "dataset.columns = dataset.columns.str.replace(' ','_') #removing spaces in the column names in order to work with them\n",
    "dataset.corr() #checking the linear correlation between the numerical columns"
   ]
  },
  {
   "cell_type": "markdown",
   "id": "12b20453",
   "metadata": {},
   "source": [
    "# Vizualize the data and correlation with seaborn"
   ]
  },
  {
   "cell_type": "code",
   "execution_count": 16,
   "id": "9428779d",
   "metadata": {},
   "outputs": [
    {
     "name": "stderr",
     "output_type": "stream",
     "text": [
      "/Users/chriswmn/opt/anaconda3/lib/python3.9/site-packages/seaborn/_decorators.py:36: FutureWarning: Pass the following variables as keyword args: x, y. From version 0.12, the only valid positional argument will be `data`, and passing other arguments without an explicit keyword will result in an error or misinterpretation.\n",
      "  warnings.warn(\n"
     ]
    },
    {
     "data": {
      "text/plain": [
       "<AxesSubplot:xlabel='Quality_of_Life_Index', ylabel='Purchasing_Power_Index'>"
      ]
     },
     "execution_count": 16,
     "metadata": {},
     "output_type": "execute_result"
    },
    {
     "data": {
      "image/png": "[encoded data removed]",
      "text/plain": [
       "<Figure size 432x288 with 1 Axes>"
      ]
     },
     "metadata": {
      "needs_background": "light"
     },
     "output_type": "display_data"
    }
   ],
   "source": [
    "sns.regplot(dataset.Quality_of_Life_Index, dataset.Purchasing_Power_Index, ci=None) #ci None => kein Konfidenzintervall"
   ]
  },
  {
   "cell_type": "markdown",
   "id": "43cbae15",
   "metadata": {},
   "source": [
    "Noticing that checking for the quadratic correlation could suit the data better"
   ]
  },
  {
   "cell_type": "markdown",
   "id": "524e36ef",
   "metadata": {},
   "source": [
    "# Quadratic regression with correlation"
   ]
  },
  {
   "cell_type": "markdown",
   "id": "de75dc20",
   "metadata": {},
   "source": [
    "Libarys => seaborn, matplotlib, scatter?"
   ]
  },
  {
   "cell_type": "code",
   "execution_count": 54,
   "id": "5f1c61d9",
   "metadata": {},
   "outputs": [],
   "source": [
    "#Nice presentation of the first plot!\n",
    "#sns.scatterplot(data=dataset, x=\"Quality_of_Life_Index\", y=\"Purchasing_Power_Index\", hue=\"Quality_of_Life_Index\")"
   ]
  },
  {
   "cell_type": "markdown",
   "id": "f25b529a",
   "metadata": {},
   "source": [
    "Creating a empty plot in Matplotlib"
   ]
  },
  {
   "cell_type": "code",
   "execution_count": 55,
   "id": "a1da826b",
   "metadata": {},
   "outputs": [
    {
     "data": {
      "image/png": "[encoded data removed]",
      "text/plain": [
       "<Figure size 504x288 with 1 Axes>"
      ]
     },
     "metadata": {},
     "output_type": "display_data"
    }
   ],
   "source": [
    "plt.title('Correlation Quality of Life and Purchasing Power')\n",
    "plt.xlabel('Quality_of_Life_Index')\n",
    "plt.ylabel('Purchasing_Power_Index')\n",
    "plt.show()"
   ]
  },
  {
   "cell_type": "markdown",
   "id": "55d5d604",
   "metadata": {},
   "source": [
    "Calculating the values for the function (numpy)"
   ]
  },
  {
   "cell_type": "code",
   "execution_count": 56,
   "id": "db92caeb",
   "metadata": {},
   "outputs": [],
   "source": [
    "#function_values = np.polyfit(dataset['Quality_of_Life_Index'], dataset['Purchasing_Power_Index'], 2)\n",
    "#function_values #the ouput is a array for the function => 3.66394528e-03*x^2 -1.59269415e-01*x + 1.82"
   ]
  },
  {
   "cell_type": "markdown",
   "id": "1013f91e",
   "metadata": {},
   "source": [
    "Converting the values into a graph (numpy)"
   ]
  },
  {
   "cell_type": "code",
   "execution_count": 57,
   "id": "8ed2a93e",
   "metadata": {},
   "outputs": [],
   "source": [
    "#function = np.poly1d(function_values) #converting it into a poly1darray, so I can work with it like a function\n",
    "#function\n",
    "\n",
    "#print(function) # shows it as a function\n",
    "#print(plot(82)) #=> shows the value for x=82 => can work with it like a function"
   ]
  },
  {
   "cell_type": "markdown",
   "id": "25e2a9ba",
   "metadata": {},
   "source": [
    "Creating the regression and pass on the functions values to matplotlib"
   ]
  },
  {
   "cell_type": "code",
   "execution_count": 58,
   "id": "89d6e10a",
   "metadata": {
    "scrolled": true
   },
   "outputs": [
    {
     "data": {
      "text/plain": [
       "[<matplotlib.lines.Line2D at 0x7fc1081c30a0>]"
      ]
     },
     "execution_count": 58,
     "metadata": {},
     "output_type": "execute_result"
    },
    {
     "data": {
      "image/png": "[encoded data removed]",
      "text/plain": [
       "<Figure size 504x288 with 1 Axes>"
      ]
     },
     "metadata": {},
     "output_type": "display_data"
    }
   ],
   "source": [
    "#numpy LIBARY\n",
    "polyline = np.linspace(0, 207.78, 100) # => WERTE BEREICH der Linie\n",
    "#np.linspace creates evenly distributed array of numbers => np.linspace(START, END, HOW MANY NUMBERS)\n",
    "model = np.poly1d(np.polyfit(dataset['Quality_of_Life_Index'], dataset['Purchasing_Power_Index'], 2)) #Funktion 2. Grades\n",
    "#print(model) # OUTPUT => GRAPH_FUNCTION\n",
    "\n",
    "\n",
    "plt.scatter(dataset['Quality_of_Life_Index'], dataset['Purchasing_Power_Index'], alpha=0.8) #creating the scatter and putting it in the plot dimensions\n",
    "plt.plot(polyline, model(polyline), color='red') #adding the line into the plot\n",
    "\n",
    "\n",
    "#What does plt.plot? => It creates a lineplot with the given points \n",
    "#plt.show()"
   ]
  },
  {
   "cell_type": "code",
   "execution_count": 59,
   "id": "dbfbd883",
   "metadata": {},
   "outputs": [],
   "source": [
    "# r2 square metric\n",
    "#print(r2_score(dataset['Purchasing_Power_Index'], \n",
    "#               model(dataset['Quality_of_Life_Index'])"
   ]
  },
  {
   "cell_type": "code",
   "execution_count": null,
   "id": "af88fa05",
   "metadata": {},
   "outputs": [],
   "source": []
  },
  {
   "cell_type": "markdown",
   "id": "322b50ac",
   "metadata": {},
   "source": [
    "Spearmans's correlation in phython"
   ]
  },
  {
   "cell_type": "code",
   "execution_count": 60,
   "id": "5e41a387",
   "metadata": {},
   "outputs": [
    {
     "data": {
      "text/html": [
       "<div>\n",
       "<style scoped>\n",
       "    .dataframe tbody tr th:only-of-type {\n",
       "        vertical-align: middle;\n",
       "    }\n",
       "\n",
       "    .dataframe tbody tr th {\n",
       "        vertical-align: top;\n",
       "    }\n",
       "\n",
       "    .dataframe thead th {\n",
       "        text-align: right;\n",
       "    }\n",
       "</style>\n",
       "<table border=\"1\" class=\"dataframe\">\n",
       "  <thead>\n",
       "    <tr style=\"text-align: right;\">\n",
       "      <th></th>\n",
       "      <th>Quality_of_Life_Index</th>\n",
       "      <th>Purchasing_Power_Index</th>\n",
       "    </tr>\n",
       "  </thead>\n",
       "  <tbody>\n",
       "    <tr>\n",
       "      <th>Quality_of_Life_Index</th>\n",
       "      <td>1.000000</td>\n",
       "      <td>0.834776</td>\n",
       "    </tr>\n",
       "    <tr>\n",
       "      <th>Purchasing_Power_Index</th>\n",
       "      <td>0.834776</td>\n",
       "      <td>1.000000</td>\n",
       "    </tr>\n",
       "  </tbody>\n",
       "</table>\n",
       "</div>"
      ],
      "text/plain": [
       "                        Quality_of_Life_Index  Purchasing_Power_Index\n",
       "Quality_of_Life_Index                1.000000                0.834776\n",
       "Purchasing_Power_Index               0.834776                1.000000"
      ]
     },
     "execution_count": 60,
     "metadata": {},
     "output_type": "execute_result"
    }
   ],
   "source": [
    "#dataspearman = dataset.dropna() # DELETES COMPLETE ROW ATTENTION !\n",
    "datalimited = dataset[['Quality_of_Life_Index', 'Purchasing_Power_Index']].dropna()\n",
    "#dataset.corr(method='spearman')\n",
    "datalimited.corr(method='spearman')\n"
   ]
  },
  {
   "cell_type": "markdown",
   "id": "580e4b99",
   "metadata": {},
   "source": [
    "Spearmans's correlation in scipy"
   ]
  },
  {
   "cell_type": "code",
   "execution_count": 61,
   "id": "7629322b",
   "metadata": {},
   "outputs": [
    {
     "data": {
      "text/plain": [
       "SpearmanrResult(correlation=0.8347757585714146, pvalue=1.611473574937285e-67)"
      ]
     },
     "execution_count": 61,
     "metadata": {},
     "output_type": "execute_result"
    }
   ],
   "source": [
    "from scipy.stats import spearmanr\n",
    "spearmanr(datalimited)"
   ]
  },
  {
   "cell_type": "markdown",
   "id": "fdc51117",
   "metadata": {},
   "source": [
    "# Getting the significance of the values"
   ]
  },
  {
   "cell_type": "code",
   "execution_count": 70,
   "id": "edc0de1b",
   "metadata": {},
   "outputs": [],
   "source": [
    "import scipy\n",
    "from pylab import rcParams\n",
    "\n",
    "%matplotlib inline\n",
    "rcParams['figure.figsize'] = 7, 4 #changes the size of the plot \n",
    "plt.style.use('seaborn-whitegrid')\n",
    "\n",
    "\n",
    "dataset = pd.read_csv(filepath)\n",
    "#cars.columns['car_names', 'mpg', 'cy1', 'disp', 'hp', 'drat', 'wt', 'qsec', 'vs', 'am', 'gear', 'carb']\n",
    "#sns.pairplot(dataset)\n"
   ]
  },
  {
   "cell_type": "code",
   "execution_count": 69,
   "id": "3ada24a7",
   "metadata": {},
   "outputs": [
    {
     "name": "stdout",
     "output_type": "stream",
     "text": [
      "Spearman Rank Correlation Coefficient 0.835\n"
     ]
    }
   ],
   "source": [
    "spearmanr_coefficient, p_value = spearmanr(datalimited['Quality_of_Life_Index'], datalimited['Purchasing_Power_Index'])\n",
    "#print('Spearman Rank Correlation Coefficient %0.3f' % (spearmanr_coefficient))\n",
    "print('Spearman Rank Correlation Coefficient %0.3f' % (spearmanr_coefficient))"
   ]
  },
  {
   "cell_type": "markdown",
   "id": "79b77dd4",
   "metadata": {},
   "source": [
    "Chi-Square-Test for independence https://www.youtube.com/watch?v=IM2Xrd2ufM0"
   ]
  },
  {
   "cell_type": "code",
   "execution_count": 72,
   "id": "479526e7",
   "metadata": {},
   "outputs": [
    {
     "name": "stdout",
     "output_type": "stream",
     "text": [
      "Chi-square Statistics 63240.000 P_value 0.250\n"
     ]
    }
   ],
   "source": [
    "table = pd.crosstab(datalimited['Quality_of_Life_Index'], datalimited['Purchasing_Power_Index'])\n",
    "from scipy.stats import chi2_contingency\n",
    "\n",
    "#placeholder for output\n",
    "chi2, p, dof, expected = chi2_contingency(table.values)\n",
    "\n",
    "print ('Chi-square Statistics %0.3f P_value %0.3f' % (chi2, p))"
   ]
  },
  {
   "cell_type": "markdown",
   "id": "2c32b454",
   "metadata": {},
   "source": [
    "Conclusion"
   ]
  },
  {
   "cell_type": "code",
   "execution_count": null,
   "id": "9623bf87",
   "metadata": {},
   "outputs": [],
   "source": []
  }
 ],
 "metadata": {
  "kernelspec": {
   "display_name": "Python 3 (ipykernel)",
   "language": "python",
   "name": "python3"
  },
  "language_info": {
   "codemirror_mode": {
    "name": "ipython",
    "version": 3
   },
   "file_extension": ".py",
   "mimetype": "text/x-python",
   "name": "python",
   "nbconvert_exporter": "python",
   "pygments_lexer": "ipython3",
   "version": "3.9.7"
  }
 },
 "nbformat": 4,
 "nbformat_minor": 5
}
